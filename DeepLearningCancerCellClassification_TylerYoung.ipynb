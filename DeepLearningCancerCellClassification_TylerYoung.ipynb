{
 "cells": [
  {
   "cell_type": "markdown",
   "metadata": {},
   "source": [
    "# Cancer Cell Image Classification using Tensorflow"
   ]
  },
  {
   "cell_type": "markdown",
   "metadata": {},
   "source": [
    "Original data was color images of 50 by 50 pixels. Those images were converted to 50 by 50 by 3 numpy arrays and that is the data loaded here. There were many variations of this network run in attempts to optimize. For brevity, one of the better models is shown below. \n",
    "\n",
    "The output is the trained model and weights which could be used to analyze new images for breast cancer cells."
   ]
  },
  {
   "cell_type": "code",
   "execution_count": 2,
   "metadata": {},
   "outputs": [
    {
     "name": "stderr",
     "output_type": "stream",
     "text": [
      "Using TensorFlow backend.\n"
     ]
    }
   ],
   "source": [
    "import numpy as np\n",
    "import matplotlib.pylab as plt\n",
    "%matplotlib inline\n",
    "import sklearn\n",
    "from keras import backend as K\n",
    "from keras.layers import Conv2D, MaxPooling2D"
   ]
  },
  {
   "cell_type": "code",
   "execution_count": 3,
   "metadata": {},
   "outputs": [],
   "source": [
    "from sklearn.metrics import confusion_matrix"
   ]
  },
  {
   "cell_type": "markdown",
   "metadata": {},
   "source": [
    "#### Load Data and Merge"
   ]
  },
  {
   "cell_type": "code",
   "execution_count": null,
   "metadata": {},
   "outputs": [],
   "source": [
    "X1 = np.load('benign_subset_rgb.npy')\n",
    "X2 = np.load('malignant_subset_rgb.npy')"
   ]
  },
  {
   "cell_type": "code",
   "execution_count": 5,
   "metadata": {},
   "outputs": [
    {
     "data": {
      "text/plain": [
       "(10000, 50, 50, 3)"
      ]
     },
     "execution_count": 5,
     "metadata": {},
     "output_type": "execute_result"
    }
   ],
   "source": [
    "X1.shape"
   ]
  },
  {
   "cell_type": "code",
   "execution_count": 6,
   "metadata": {},
   "outputs": [
    {
     "data": {
      "text/plain": [
       "(10000, 50, 50, 3)"
      ]
     },
     "execution_count": 6,
     "metadata": {},
     "output_type": "execute_result"
    }
   ],
   "source": [
    "X2.shape"
   ]
  },
  {
   "cell_type": "code",
   "execution_count": 7,
   "metadata": {},
   "outputs": [],
   "source": [
    "X11 = X1[0:10000]"
   ]
  },
  {
   "cell_type": "code",
   "execution_count": 8,
   "metadata": {},
   "outputs": [],
   "source": [
    "X22 = X2[0:10000]"
   ]
  },
  {
   "cell_type": "code",
   "execution_count": 9,
   "metadata": {},
   "outputs": [],
   "source": [
    "X = np.concatenate((X11,X22), axis = 0)"
   ]
  },
  {
   "cell_type": "code",
   "execution_count": 10,
   "metadata": {},
   "outputs": [
    {
     "data": {
      "text/plain": [
       "(20000, 50, 50, 3)"
      ]
     },
     "execution_count": 10,
     "metadata": {},
     "output_type": "execute_result"
    }
   ],
   "source": [
    "X.shape"
   ]
  },
  {
   "cell_type": "code",
   "execution_count": 11,
   "metadata": {},
   "outputs": [],
   "source": [
    "Y1 = np.zeros((len(X11),), dtype=int)"
   ]
  },
  {
   "cell_type": "code",
   "execution_count": 12,
   "metadata": {},
   "outputs": [],
   "source": [
    "Y2 = np.ones((len(X22),), dtype=int)"
   ]
  },
  {
   "cell_type": "code",
   "execution_count": 13,
   "metadata": {},
   "outputs": [],
   "source": [
    "Y = np.concatenate((Y1,Y2))"
   ]
  },
  {
   "cell_type": "code",
   "execution_count": 14,
   "metadata": {},
   "outputs": [
    {
     "data": {
      "text/plain": [
       "(20000,)"
      ]
     },
     "execution_count": 14,
     "metadata": {},
     "output_type": "execute_result"
    }
   ],
   "source": [
    "Y.shape"
   ]
  },
  {
   "cell_type": "code",
   "execution_count": 15,
   "metadata": {},
   "outputs": [
    {
     "name": "stdout",
     "output_type": "stream",
     "text": [
      "Total number of images : 20000\n",
      "Number of images without cancer : 10000\n",
      "Number of images with cancer : 10000\n",
      "Percentage of positive images : 50.00%\n",
      "Image shape (number of rows, number of columns, channels RGB): (50, 50, 3)\n"
     ]
    }
   ],
   "source": [
    "print('Total number of images : {}'.format(len(X)))\n",
    "print('Number of images without cancer : {}'.format(np.sum(Y==0)))\n",
    "print('Number of images with cancer : {}'.format(np.sum(Y==1)))\n",
    "print('Percentage of positive images : {:.2f}%'.format(100*np.mean(Y)))\n",
    "print('Image shape (number of rows, number of columns, channels RGB): {}'.format(X[0].shape))"
   ]
  },
  {
   "cell_type": "code",
   "execution_count": 16,
   "metadata": {},
   "outputs": [
    {
     "name": "stdout",
     "output_type": "stream",
     "text": [
      "Training Data Shape: (16000, 50, 50, 3) (16000, 50, 50, 3)\n",
      "Testing Data Shape: (4000, 50, 50, 3) (4000, 50, 50, 3)\n"
     ]
    }
   ],
   "source": [
    "from sklearn.model_selection import train_test_split\n",
    "X_train, X_test, Y_train, Y_test = train_test_split(X, Y, test_size=0.2)\n",
    "\n",
    "print(\"Training Data Shape:\", X_train.shape, X_train.shape)\n",
    "print(\"Testing Data Shape:\", X_test.shape, X_test.shape)"
   ]
  },
  {
   "cell_type": "code",
   "execution_count": 17,
   "metadata": {},
   "outputs": [],
   "source": [
    "import keras\n",
    "from keras.models import Sequential\n",
    "from keras.optimizers import SGD, RMSprop, Adam, Adagrad, Adadelta\n",
    "from keras.layers import Dense, Activation, Dropout\n",
    "from keras.layers.advanced_activations import LeakyReLU\n",
    "from keras.utils.np_utils import to_categorical # convert to one-hot-encoding\n",
    "from keras.models import Sequential\n",
    "from keras.layers import Dense, Dropout, Flatten, Conv2D, MaxPool2D, BatchNormalization\n",
    "from keras.optimizers import RMSprop\n",
    "from keras.preprocessing.image import ImageDataGenerator\n",
    "from keras.callbacks import ReduceLROnPlateau, ModelCheckpoint\n",
    "from keras.models import model_from_json\n",
    "\n",
    "# Encode labels to hot vectors (ex : 2 -> [0,0,1,0,0,0,0,0,0,0])\n",
    "Y_train = to_categorical(Y_train, num_classes = 2)\n",
    "Y_test = to_categorical(Y_test, num_classes = 2)"
   ]
  },
  {
   "cell_type": "markdown",
   "metadata": {},
   "source": [
    "#### Create and Run Model"
   ]
  },
  {
   "cell_type": "code",
   "execution_count": 16,
   "metadata": {},
   "outputs": [],
   "source": [
    "batch_size = 128\n",
    "num_classes = 2\n",
    "epochs = 24\n",
    "\n",
    "model6 = Sequential()\n",
    "\n",
    "model6.add(Conv2D(32, kernel_size=(3, 3), strides=(1, 1),\n",
    "                 padding='same',\n",
    "                 activation='relu',\n",
    "                 input_shape=X_train[0].shape))\n",
    "model6.add(Conv2D(32, (3, 3), activation='relu'))\n",
    "model6.add(MaxPooling2D(pool_size=(2, 2)))\n",
    "model6.add(Dropout(0.25))\n",
    "\n",
    "model6.add(Conv2D(64, kernel_size=(3, 3), strides=(1, 1),\n",
    "                 padding='same',\n",
    "                 activation='relu',\n",
    "                 input_shape=X_train[0].shape))\n",
    "model6.add(Conv2D(64, (3, 3), activation='relu'))\n",
    "model6.add(MaxPooling2D(pool_size=(2, 2)))\n",
    "model6.add(Dropout(0.25))\n",
    "\n",
    "model6.add(Flatten())\n",
    "model6.add(Dense(512, activation='relu'))\n",
    "model6.add(Dropout(0.5))\n",
    "model6.add(Dense(num_classes, activation='softmax'))\n",
    "\n",
    "optimizer = Adadelta(lr=1.0, rho=0.95, epsilon=None, decay=0.0)\n",
    "\n",
    "model6.compile(loss='categorical_crossentropy',\n",
    "              optimizer=optimizer,\n",
    "              metrics=['accuracy'])"
   ]
  },
  {
   "cell_type": "code",
   "execution_count": 17,
   "metadata": {},
   "outputs": [
    {
     "name": "stdout",
     "output_type": "stream",
     "text": [
      "Epoch 1/24\n",
      "313/313 [==============================] - 766s 2s/step - loss: 0.6762 - acc: 0.5910 - val_loss: 0.6135 - val_acc: 0.6705\n",
      "Epoch 2/24\n",
      "313/313 [==============================] - 735s 2s/step - loss: 0.5660 - acc: 0.7243 - val_loss: 0.4979 - val_acc: 0.7756\n",
      "Epoch 3/24\n",
      "313/313 [==============================] - 733s 2s/step - loss: 0.5202 - acc: 0.7544 - val_loss: 0.4771 - val_acc: 0.7883\n",
      "Epoch 4/24\n",
      "313/313 [==============================] - 730s 2s/step - loss: 0.4951 - acc: 0.7736 - val_loss: 0.4303 - val_acc: 0.8085\n",
      "Epoch 5/24\n",
      "313/313 [==============================] - 733s 2s/step - loss: 0.4767 - acc: 0.7842 - val_loss: 0.4276 - val_acc: 0.8151\n",
      "Epoch 6/24\n",
      "313/313 [==============================] - 737s 2s/step - loss: 0.4552 - acc: 0.7978 - val_loss: 0.4072 - val_acc: 0.8223\n",
      "Epoch 7/24\n",
      "313/313 [==============================] - 731s 2s/step - loss: 0.4460 - acc: 0.8058 - val_loss: 0.3845 - val_acc: 0.8330\n",
      "Epoch 8/24\n",
      "313/313 [==============================] - 708s 2s/step - loss: 0.4280 - acc: 0.8145 - val_loss: 0.4276 - val_acc: 0.8093\n",
      "Epoch 9/24\n",
      "313/313 [==============================] - 705s 2s/step - loss: 0.4214 - acc: 0.8177 - val_loss: 0.3769 - val_acc: 0.8366\n",
      "Epoch 10/24\n",
      "313/313 [==============================] - 713s 2s/step - loss: 0.4110 - acc: 0.8215 - val_loss: 0.5581 - val_acc: 0.7639\n",
      "Epoch 11/24\n",
      "313/313 [==============================] - 706s 2s/step - loss: 0.4029 - acc: 0.8265 - val_loss: 0.3673 - val_acc: 0.8415\n",
      "Epoch 12/24\n",
      "313/313 [==============================] - 703s 2s/step - loss: 0.3974 - acc: 0.8296 - val_loss: 0.3505 - val_acc: 0.8499\n",
      "Epoch 13/24\n",
      "313/313 [==============================] - 698s 2s/step - loss: 0.3921 - acc: 0.8319 - val_loss: 0.4211 - val_acc: 0.8201\n",
      "Epoch 14/24\n",
      "313/313 [==============================] - 705s 2s/step - loss: 0.3924 - acc: 0.8320 - val_loss: 0.4047 - val_acc: 0.8323\n",
      "Epoch 15/24\n",
      "313/313 [==============================] - 704s 2s/step - loss: 0.3848 - acc: 0.8334 - val_loss: 0.3557 - val_acc: 0.8440\n",
      "Epoch 16/24\n",
      "313/313 [==============================] - 701s 2s/step - loss: 0.3812 - acc: 0.8367 - val_loss: 0.3780 - val_acc: 0.8352\n",
      "Epoch 17/24\n",
      "313/313 [==============================] - 702s 2s/step - loss: 0.3736 - acc: 0.8397 - val_loss: 0.3567 - val_acc: 0.8487\n",
      "Epoch 18/24\n",
      "313/313 [==============================] - 704s 2s/step - loss: 0.3699 - acc: 0.8414 - val_loss: 0.3799 - val_acc: 0.8416\n",
      "Epoch 19/24\n",
      "313/313 [==============================] - 702s 2s/step - loss: 0.3672 - acc: 0.8443 - val_loss: 0.3375 - val_acc: 0.8588\n",
      "Epoch 20/24\n",
      "313/313 [==============================] - 689s 2s/step - loss: 0.3635 - acc: 0.8460 - val_loss: 0.3444 - val_acc: 0.8549\n",
      "Epoch 21/24\n",
      "313/313 [==============================] - 691s 2s/step - loss: 0.3596 - acc: 0.8480 - val_loss: 0.3329 - val_acc: 0.8606\n",
      "Epoch 22/24\n",
      "313/313 [==============================] - 692s 2s/step - loss: 0.3539 - acc: 0.8487 - val_loss: 0.3242 - val_acc: 0.8641\n",
      "Epoch 23/24\n",
      "313/313 [==============================] - 695s 2s/step - loss: 0.3562 - acc: 0.8497 - val_loss: 0.3287 - val_acc: 0.8622\n",
      "Epoch 24/24\n",
      "313/313 [==============================] - 696s 2s/step - loss: 0.3516 - acc: 0.8507 - val_loss: 0.3183 - val_acc: 0.8616\n"
     ]
    },
    {
     "data": {
      "text/plain": [
       "<keras.callbacks.History at 0x1a18e245f8>"
      ]
     },
     "execution_count": 17,
     "metadata": {},
     "output_type": "execute_result"
    }
   ],
   "source": [
    "# This will do preprocessing and realtime data augmentation:\n",
    "datagen = ImageDataGenerator(\n",
    "featurewise_center=False,  # set input mean to 0 over the dataset\n",
    "samplewise_center=False,  # set each sample mean to 0\n",
    "featurewise_std_normalization=False,  # divide inputs by std of the dataset\n",
    "samplewise_std_normalization=False,  # divide each input by its std\n",
    "zca_whitening=False,  # apply ZCA whitening\n",
    "rotation_range=0,  # randomly rotate images in the range (degrees, 0 to 180)\n",
    "width_shift_range=0.1,  # randomly shift images horizontally (fraction of total width)\n",
    "height_shift_range=0.1,  # randomly shift images vertically (fraction of total height)\n",
    "horizontal_flip=True,  # randomly flip images\n",
    "vertical_flip=False)  # randomly flip images\n",
    "\n",
    "# Compute quantities required for feature-wise normalization\n",
    "# (std, mean, and principal components if ZCA whitening is applied).\n",
    "datagen.fit(X_train)\n",
    "\n",
    "# Fit the model on the batches generated by datagen.flow().\n",
    "model6.fit_generator(datagen.flow(X_train, Y_train,\n",
    "                                     batch_size=batch_size),\n",
    "                    epochs=epochs,\n",
    "                    validation_data=(X_test, Y_test),\n",
    "                    workers=4)"
   ]
  },
  {
   "cell_type": "code",
   "execution_count": 18,
   "metadata": {},
   "outputs": [
    {
     "name": "stdout",
     "output_type": "stream",
     "text": [
      "Keras CNN - accuracy: 0.8616\n"
     ]
    }
   ],
   "source": [
    "score = model6.evaluate(X_test, Y_test, verbose=0)\n",
    "print('Keras CNN - accuracy:', score[1])"
   ]
  },
  {
   "cell_type": "markdown",
   "metadata": {},
   "source": [
    "#### Save Model and Model Weights"
   ]
  },
  {
   "cell_type": "code",
   "execution_count": 28,
   "metadata": {},
   "outputs": [],
   "source": [
    "model6.save_weights('mod_weights86')\n",
    "# serialize model to JSON\n",
    "model_json = model6.to_json()\n",
    "with open(\"model86.json\", \"w\") as json_file:\n",
    "    json_file.write(model_json)"
   ]
  },
  {
   "cell_type": "code",
   "execution_count": 19,
   "metadata": {},
   "outputs": [],
   "source": [
    "model6.save_weights('mod_weights86')"
   ]
  },
  {
   "cell_type": "markdown",
   "metadata": {},
   "source": [
    "### Plot Matrix"
   ]
  },
  {
   "cell_type": "code",
   "execution_count": 27,
   "metadata": {},
   "outputs": [
    {
     "data": {
      "image/png": "[encoded data removed]",
      "text/plain": [
       "<Figure size 432x288 with 1 Axes>"
      ]
     },
     "metadata": {},
     "output_type": "display_data"
    }
   ],
   "source": [
    "Y_pred = loaded_model.predict(X_test)\n",
    "Y_pred_class = np.argmax(Y_pred,axis = 1) \n",
    "Y_actual = np.argmax(Y_test,axis = 1) \n",
    "confusion_mtx = confusion_matrix(Y_actual, Y_pred_class) \n",
    "\n",
    "plt.clf()\n",
    "plt.imshow(confusion_mtx, interpolation='nearest', cmap=plt.cm.Wistia)\n",
    "classNames = ['Negative','Positive']\n",
    "plt.title('Predicting IDC in Breast Cancer Histology Images - Model 5')\n",
    "plt.ylabel('Actual values')\n",
    "plt.xlabel('Predicted values')\n",
    "tick_marks = np.arange(len(classNames))\n",
    "plt.xticks(tick_marks, classNames, rotation=45)\n",
    "plt.yticks(tick_marks, classNames)\n",
    "s = [['TN','FP'], ['FN', 'TP']]\n",
    "\n",
    "for i in range(2):\n",
    "    for j in range(2):\n",
    "        plt.text(j,i, str(s[i][j])+\" = \"+str(confusion_mtx[i][j]))\n",
    "plt.show()"
   ]
  },
  {
   "cell_type": "markdown",
   "metadata": {},
   "source": [
    "---"
   ]
  }
 ],
 "metadata": {
  "kernelspec": {
   "display_name": "Python 3",
   "language": "python",
   "name": "python3"
  },
  "language_info": {
   "codemirror_mode": {
    "name": "ipython",
    "version": 3
   },
   "file_extension": ".py",
   "mimetype": "text/x-python",
   "name": "python",
   "nbconvert_exporter": "python",
   "pygments_lexer": "ipython3",
   "version": "3.6.5"
  }
 },
 "nbformat": 4,
 "nbformat_minor": 2
}
